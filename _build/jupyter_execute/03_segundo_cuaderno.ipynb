{
 "cells": [
  {
   "cell_type": "markdown",
   "metadata": {
    "id": "hrIjW1WdwZBK"
   },
   "source": [
    "# Medidas estadísticas\n",
    "\n",
    "Nuevamente cargamos el dataset de ifood para hacer una exploración de los datos. Para este caso, vamos a hacer una exploración de los datos desde las medidas de tendencia central y dispersión. Así mismo, vamos a hacer una exploración de los datos categóricos que aquí se encuentran escritos como variables dummy.\n",
    "\n",
    "## Carga de datos\n",
    "\n",
    "Recordemos que para cargar los datos debe hacer clic en el panel izquierdo en el botón de exploración de archivos. En ese menu tendra la opción de subir algunos datos. \n",
    "\n",
    "```{note}\n",
    "Recuerde que para cargar los datos debe hacer clic en el panel izquierdo en el botón de exploración de archivos. En ese menu tendra la opción de subir algunos datos. En Google Colab, el archivo se borrará una vez que se cierre el entorno.\n",
    "```\n"
   ]
  },
  {
   "cell_type": "code",
   "execution_count": 1,
   "metadata": {
    "colab": {
     "base_uri": "https://localhost:8080/",
     "height": 273
    },
    "id": "uPV77Vux0beE",
    "outputId": "0f08fa26-fb96-462c-f934-3b62a3d804c4"
   },
   "outputs": [
    {
     "data": {
      "text/html": [
       "<div>\n",
       "<style scoped>\n",
       "    .dataframe tbody tr th:only-of-type {\n",
       "        vertical-align: middle;\n",
       "    }\n",
       "\n",
       "    .dataframe tbody tr th {\n",
       "        vertical-align: top;\n",
       "    }\n",
       "\n",
       "    .dataframe thead th {\n",
       "        text-align: right;\n",
       "    }\n",
       "</style>\n",
       "<table border=\"1\" class=\"dataframe\">\n",
       "  <thead>\n",
       "    <tr style=\"text-align: right;\">\n",
       "      <th></th>\n",
       "      <th>Marital_Status</th>\n",
       "      <th>Kidhome</th>\n",
       "      <th>Teenhome</th>\n",
       "      <th>Education_Level</th>\n",
       "      <th>Income</th>\n",
       "      <th>Recency</th>\n",
       "      <th>MntWines</th>\n",
       "      <th>MntFruits</th>\n",
       "      <th>MntMeatProducts</th>\n",
       "      <th>MntFishProducts</th>\n",
       "      <th>...</th>\n",
       "      <th>Customer_Days</th>\n",
       "      <th>MntRegularProds</th>\n",
       "      <th>NumCatalogPurchases</th>\n",
       "      <th>NumDealsPurchases</th>\n",
       "      <th>NumStorePurchases</th>\n",
       "      <th>NumWebPurchases</th>\n",
       "      <th>NumWebVisitsMonth</th>\n",
       "      <th>Response</th>\n",
       "      <th>Z_CostContact</th>\n",
       "      <th>Z_Revenue</th>\n",
       "    </tr>\n",
       "  </thead>\n",
       "  <tbody>\n",
       "    <tr>\n",
       "      <th>0</th>\n",
       "      <td>Single</td>\n",
       "      <td>0</td>\n",
       "      <td>0</td>\n",
       "      <td>Master</td>\n",
       "      <td>74927</td>\n",
       "      <td>39</td>\n",
       "      <td>156</td>\n",
       "      <td>17</td>\n",
       "      <td>82</td>\n",
       "      <td>18</td>\n",
       "      <td>...</td>\n",
       "      <td>566</td>\n",
       "      <td>293</td>\n",
       "      <td>5</td>\n",
       "      <td>2</td>\n",
       "      <td>3</td>\n",
       "      <td>1</td>\n",
       "      <td>4</td>\n",
       "      <td>1</td>\n",
       "      <td>3</td>\n",
       "      <td>11</td>\n",
       "    </tr>\n",
       "    <tr>\n",
       "      <th>1</th>\n",
       "      <td>Widow</td>\n",
       "      <td>0</td>\n",
       "      <td>0</td>\n",
       "      <td>Master</td>\n",
       "      <td>95766</td>\n",
       "      <td>22</td>\n",
       "      <td>192</td>\n",
       "      <td>17</td>\n",
       "      <td>101</td>\n",
       "      <td>28</td>\n",
       "      <td>...</td>\n",
       "      <td>3103</td>\n",
       "      <td>369</td>\n",
       "      <td>1</td>\n",
       "      <td>7</td>\n",
       "      <td>0</td>\n",
       "      <td>2</td>\n",
       "      <td>2</td>\n",
       "      <td>0</td>\n",
       "      <td>3</td>\n",
       "      <td>11</td>\n",
       "    </tr>\n",
       "    <tr>\n",
       "      <th>2</th>\n",
       "      <td>Married</td>\n",
       "      <td>0</td>\n",
       "      <td>1</td>\n",
       "      <td>Graduation</td>\n",
       "      <td>59676</td>\n",
       "      <td>46</td>\n",
       "      <td>50</td>\n",
       "      <td>7</td>\n",
       "      <td>57</td>\n",
       "      <td>46</td>\n",
       "      <td>...</td>\n",
       "      <td>565</td>\n",
       "      <td>192</td>\n",
       "      <td>3</td>\n",
       "      <td>6</td>\n",
       "      <td>0</td>\n",
       "      <td>5</td>\n",
       "      <td>6</td>\n",
       "      <td>0</td>\n",
       "      <td>3</td>\n",
       "      <td>11</td>\n",
       "    </tr>\n",
       "    <tr>\n",
       "      <th>3</th>\n",
       "      <td>Married</td>\n",
       "      <td>2</td>\n",
       "      <td>2</td>\n",
       "      <td>Graduation</td>\n",
       "      <td>59663</td>\n",
       "      <td>2</td>\n",
       "      <td>0</td>\n",
       "      <td>39</td>\n",
       "      <td>0</td>\n",
       "      <td>62</td>\n",
       "      <td>...</td>\n",
       "      <td>1582</td>\n",
       "      <td>171</td>\n",
       "      <td>4</td>\n",
       "      <td>1</td>\n",
       "      <td>1</td>\n",
       "      <td>2</td>\n",
       "      <td>4</td>\n",
       "      <td>0</td>\n",
       "      <td>3</td>\n",
       "      <td>11</td>\n",
       "    </tr>\n",
       "    <tr>\n",
       "      <th>4</th>\n",
       "      <td>Single</td>\n",
       "      <td>0</td>\n",
       "      <td>0</td>\n",
       "      <td>Graduation</td>\n",
       "      <td>66230</td>\n",
       "      <td>42</td>\n",
       "      <td>152</td>\n",
       "      <td>15</td>\n",
       "      <td>69</td>\n",
       "      <td>20</td>\n",
       "      <td>...</td>\n",
       "      <td>2250</td>\n",
       "      <td>268</td>\n",
       "      <td>1</td>\n",
       "      <td>4</td>\n",
       "      <td>5</td>\n",
       "      <td>6</td>\n",
       "      <td>4</td>\n",
       "      <td>0</td>\n",
       "      <td>3</td>\n",
       "      <td>11</td>\n",
       "    </tr>\n",
       "  </tbody>\n",
       "</table>\n",
       "<p>5 rows × 31 columns</p>\n",
       "</div>"
      ],
      "text/plain": [
       "  Marital_Status  Kidhome  Teenhome Education_Level  Income  Recency  \\\n",
       "0         Single        0         0          Master   74927       39   \n",
       "1          Widow        0         0          Master   95766       22   \n",
       "2        Married        0         1      Graduation   59676       46   \n",
       "3        Married        2         2      Graduation   59663        2   \n",
       "4         Single        0         0      Graduation   66230       42   \n",
       "\n",
       "   MntWines  MntFruits  MntMeatProducts  MntFishProducts  ...  Customer_Days  \\\n",
       "0       156         17               82               18  ...            566   \n",
       "1       192         17              101               28  ...           3103   \n",
       "2        50          7               57               46  ...            565   \n",
       "3         0         39                0               62  ...           1582   \n",
       "4       152         15               69               20  ...           2250   \n",
       "\n",
       "   MntRegularProds  NumCatalogPurchases  NumDealsPurchases  NumStorePurchases  \\\n",
       "0              293                    5                  2                  3   \n",
       "1              369                    1                  7                  0   \n",
       "2              192                    3                  6                  0   \n",
       "3              171                    4                  1                  1   \n",
       "4              268                    1                  4                  5   \n",
       "\n",
       "   NumWebPurchases  NumWebVisitsMonth  Response  Z_CostContact  Z_Revenue  \n",
       "0                1                  4         1              3         11  \n",
       "1                2                  2         0              3         11  \n",
       "2                5                  6         0              3         11  \n",
       "3                2                  4         0              3         11  \n",
       "4                6                  4         0              3         11  \n",
       "\n",
       "[5 rows x 31 columns]"
      ]
     },
     "execution_count": 1,
     "metadata": {},
     "output_type": "execute_result"
    }
   ],
   "source": [
    "import pandas as pd\n",
    "\n",
    "# Load the dataset from the user's Google Drive\n",
    "df = pd.read_csv(\"ifood_df.csv\")\n",
    "\n",
    "# Show DataFrame\n",
    "df.head(5)\n"
   ]
  },
  {
   "cell_type": "markdown",
   "metadata": {},
   "source": [
    "## Medidas estadísticas para la variable `Recency`\n",
    "\n",
    "La variable `Recency` es una variable numérica que representa la cantidad de días desde la última compra. Esta resulta ser una variable muy importante para el análisis de la base de datos, ya que nos permite entender el comportamiento de los clientes. Vamos a hacer varios tipos de exploraciones de esta variable y haremos algunas cuentas que son de variables categóricas pero que aquí tendrán un interpretación.\n",
    "\n",
    "Por ejemplo, sabemos que las tablas de frecuencia son una forma de entender la distribución de los datos. En este caso, vamos a hacer una tabla de frecuencia para la variable `Recency` y vamos a hacer una tabla de frecuencia para la variable `Recency` pero con intervalos de clase. \n",
    "\n",
    "```{note}\n",
    "Recuerde que para hacer una tabla de frecuencia con intervalos de clase, primero debe definir el número de intervalos que va a tener. En este caso, vamos a definir 5 intervalos de clase.\n",
    "```\n",
    "\n",
    "```{note}\n",
    "Decimos que las tablas de frecuencia son una forma de entender la distribución de los datos. Efectivamente se utiliza más y mejor en variablñes categóricas, pero en variables numéricas también se puede hacer.\n",
    "```"
   ]
  },
  {
   "cell_type": "code",
   "execution_count": 2,
   "metadata": {
    "colab": {
     "base_uri": "https://localhost:8080/",
     "height": 461
    },
    "id": "HJQrma1Q2b01",
    "outputId": "b30fe287-f5d0-47b6-b539-1043f47aa89e"
   },
   "outputs": [
    {
     "data": {
      "text/plain": [
       "Recency\n",
       "41    268\n",
       "38    262\n",
       "36    259\n",
       "39    257\n",
       "37    254\n",
       "     ... \n",
       "83      3\n",
       "85      3\n",
       "92      1\n",
       "89      1\n",
       "91      1\n",
       "Name: count, Length: 91, dtype: int64"
      ]
     },
     "execution_count": 2,
     "metadata": {},
     "output_type": "execute_result"
    }
   ],
   "source": [
    "## Veamos la frecuencia de las categorías\n",
    "df['Recency'].value_counts()"
   ]
  },
  {
   "cell_type": "code",
   "execution_count": 3,
   "metadata": {},
   "outputs": [
    {
     "data": {
      "text/plain": [
       "Recency\n",
       "(-0.092, 18.4]    1265\n",
       "(18.4, 36.8]      3635\n",
       "(36.8, 55.2]      4046\n",
       "(55.2, 73.6]      1254\n",
       "(73.6, 92.0]       125\n",
       "Name: count, dtype: int64"
      ]
     },
     "execution_count": 3,
     "metadata": {},
     "output_type": "execute_result"
    }
   ],
   "source": [
    "### Ahora una tabla con rangos de clases\n",
    "\n",
    "# Crear una tabla de frecuencias\n",
    "tabla_frecuencia = pd.cut(df['Recency'], bins=5).value_counts().sort_index()\n",
    "\n",
    "# Mostrar la tabla de frecuencias\n",
    "tabla_frecuencia\n"
   ]
  },
  {
   "cell_type": "markdown",
   "metadata": {},
   "source": [
    "```{note}\n",
    "`pd.cut` es una función de pandas que nos permite hacer intervalos de clase. En este caso, el argumento `bins` nos permite definir el número de intervalos de clase.\n",
    "```\n",
    "\n"
   ]
  },
  {
   "cell_type": "markdown",
   "metadata": {},
   "source": [
    "Ahora hagamos cálculos más simples como el máximo, el mínimo, la media, la mediana y la desviación estándar, entre otros.\n",
    "\n",
    "```{note}\n",
    "Recuerde que la media y la mediana son medidas de tendencia central y la desviación estándar es una medida de dispersión.\n",
    "\n",
    "Las medidas de tendencia central nos permiten entender el valor central de los datos, mientras que las medidas de dispersión nos permiten entender la variabilidad de los datos.\n",
    "```\n",
    "\n",
    "```{note}\n",
    "Esta información es importantisima en la inferencia, y como profesionales en mercadeo tratar con estos conceptos es fundamental puesto que nos permite aplicar técnicas como:\n",
    "\n",
    "- Segmentación de clientes\n",
    "- Análisis de canasta de productos\n",
    "- Análisis de comportamiento de compra\n",
    "- Análisis de ciclo de vida del cliente\n",
    "- Análisis de retención de clientes\n",
    "\n",
    "Incluso, los famosos test A/B que se utilizan para entender el impacto de una campaña de marketing.\n",
    "```\n"
   ]
  },
  {
   "cell_type": "code",
   "execution_count": 4,
   "metadata": {},
   "outputs": [
    {
     "name": "stdout",
     "output_type": "stream",
     "text": [
      "0\n",
      "92\n"
     ]
    }
   ],
   "source": [
    "## Veamos el mínimo y máximo de la variable Recency\n",
    "print(df['Recency'].min())\n",
    "print(df['Recency'].max())"
   ]
  },
  {
   "cell_type": "code",
   "execution_count": 5,
   "metadata": {},
   "outputs": [
    {
     "name": "stdout",
     "output_type": "stream",
     "text": [
      "El mínimo de la variable Recency es:  0\n",
      "El máximo de la variable Recency es:  92\n"
     ]
    }
   ],
   "source": [
    "## Si quisiera describir de mejor manera el dato que estoy observando escribiría\n",
    "\n",
    "print('El mínimo de la variable Recency es: ', df['Recency'].min())\n",
    "print('El máximo de la variable Recency es: ', df['Recency'].max())"
   ]
  },
  {
   "cell_type": "code",
   "execution_count": 6,
   "metadata": {},
   "outputs": [
    {
     "name": "stdout",
     "output_type": "stream",
     "text": [
      "La media de la variable Recency es:  37.42808716707022\n",
      "La mediana de la variable Recency es:  38.0\n",
      "La moda de la variable Recency es:  0    41\n",
      "Name: Recency, dtype: int64\n"
     ]
    }
   ],
   "source": [
    "## Veamos las medidas de tendencia central de la variable Recency\n",
    "\n",
    "print('La media de la variable Recency es: ', df['Recency'].mean())\n",
    "print('La mediana de la variable Recency es: ', df['Recency'].median())\n",
    "print('La moda de la variable Recency es: ', df['Recency'].mode())\n"
   ]
  },
  {
   "cell_type": "code",
   "execution_count": 7,
   "metadata": {},
   "outputs": [
    {
     "name": "stdout",
     "output_type": "stream",
     "text": [
      "El rango de la variable Recency es:  92\n",
      "La varianza de la variable Recency es:  258.06178368089303\n",
      "La desviación estándar de la variable Recency es:  16.064301531062377\n"
     ]
    }
   ],
   "source": [
    "## Veamos las medidas de dispersión de la variable Recency\n",
    "\n",
    "print('El rango de la variable Recency es: ', df['Recency'].max() - df['Recency'].min())\n",
    "print('La varianza de la variable Recency es: ', df['Recency'].var())\n",
    "print('La desviación estándar de la variable Recency es: ', df['Recency'].std())"
   ]
  },
  {
   "cell_type": "code",
   "execution_count": 8,
   "metadata": {},
   "outputs": [
    {
     "name": "stdout",
     "output_type": "stream",
     "text": [
      "El percentil 25 de la variable Recency es:  27.0\n",
      "El percentil 50 de la variable Recency es:  38.0\n",
      "El percentil 75 de la variable Recency es:  49.0\n"
     ]
    }
   ],
   "source": [
    "## Incluso podriamos explorar los percentiles de la variable Recency\n",
    "\n",
    "print('El percentil 25 de la variable Recency es: ', df['Recency'].quantile(0.25))\n",
    "print('El percentil 50 de la variable Recency es: ', df['Recency'].quantile(0.50))\n",
    "print('El percentil 75 de la variable Recency es: ', df['Recency'].quantile(0.75))\n"
   ]
  },
  {
   "cell_type": "markdown",
   "metadata": {},
   "source": [
    "Sin embargo, antes de hacer el cálculo de estas medidas, podría considerar usar `describe` para obtener un resumen de las medidas de tendencia central y dispersión.\n",
    "\n",
    "```{admonition} Importante\n",
    "Los datos aquí cargados son bastante buenos, por eso no estamos haciendo una limpieza de datos. Sin embargo, en un caso real, es importante hacer una limpieza antes de hacer un análisis. Entre los pasos comunes para hacer este prtocesamiento previo, se encuentran:\n",
    "- la eliminación de datos faltantes, \n",
    "- la eliminación de datos duplicados, \n",
    "- la eliminación de datos atípicos, entre otros.\n",
    "```"
   ]
  },
  {
   "cell_type": "code",
   "execution_count": 9,
   "metadata": {},
   "outputs": [
    {
     "data": {
      "text/plain": [
       "count    10325.000000\n",
       "mean        37.428087\n",
       "std         16.064302\n",
       "min          0.000000\n",
       "25%         27.000000\n",
       "50%         38.000000\n",
       "75%         49.000000\n",
       "max         92.000000\n",
       "Name: Recency, dtype: float64"
      ]
     },
     "execution_count": 9,
     "metadata": {},
     "output_type": "execute_result"
    }
   ],
   "source": [
    "df['Recency'].describe()"
   ]
  },
  {
   "cell_type": "code",
   "execution_count": 10,
   "metadata": {},
   "outputs": [
    {
     "data": {
      "text/plain": [
       "count    10325.000000\n",
       "mean        37.428087\n",
       "std         16.064302\n",
       "min          0.000000\n",
       "1%           0.000000\n",
       "5%          10.000000\n",
       "10%         17.000000\n",
       "25%         27.000000\n",
       "50%         38.000000\n",
       "75%         49.000000\n",
       "90%         58.000000\n",
       "95%         64.000000\n",
       "99%         75.000000\n",
       "max         92.000000\n",
       "Name: Recency, dtype: float64"
      ]
     },
     "execution_count": 10,
     "metadata": {},
     "output_type": "execute_result"
    }
   ],
   "source": [
    "## Adicionar estadísticas descriptivas en describe\n",
    "\n",
    "df['Recency'].describe(percentiles=[.01, .05, .10, .25, .50, .75, .90, .95, .99])"
   ]
  }
 ],
 "metadata": {
  "colab": {
   "provenance": []
  },
  "kernelspec": {
   "display_name": "Python 3",
   "name": "python3"
  },
  "language_info": {
   "codemirror_mode": {
    "name": "ipython",
    "version": 3
   },
   "file_extension": ".py",
   "mimetype": "text/x-python",
   "name": "python",
   "nbconvert_exporter": "python",
   "pygments_lexer": "ipython3",
   "version": "3.11.4"
  }
 },
 "nbformat": 4,
 "nbformat_minor": 0
}